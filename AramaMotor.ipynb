{
 "cells": [
  {
   "cell_type": "code",
   "execution_count": 7,
   "metadata": {},
   "outputs": [
    {
     "name": "stdout",
     "output_type": "stream",
     "text": [
      "3.8.5 (default, Sep  3 2020, 21:29:08) [MSC v.1916 64 bit (AMD64)]\n"
     ]
    }
   ],
   "source": [
    "import sys\n",
    "print(sys.version)"
   ]
  },
  {
   "cell_type": "code",
   "execution_count": 8,
   "metadata": {},
   "outputs": [],
   "source": [
    "import numpy as np \n",
    "import pandas as pd \n",
    "import matplotlib.pyplot as plt \n",
    "import seaborn as sns\n",
    "from sklearn.metrics import accuracy_score,r2_score,confusion_matrix,classification_report,recall_score,confusion_matrix,mean_squared_error\n",
    "from sklearn.linear_model import LogisticRegression,LinearRegression\n",
    "from sklearn.model_selection import train_test_split,KFold,cross_val_score,ShuffleSplit\n",
    "from sklearn.neighbors import KNeighborsRegressor\n",
    "from sklearn import preprocessing\n",
    "import re\n",
    "pd.set_option(\"display.precision\", 6)\n",
    "from sklearn.cluster import KMeans\n",
    "from sklearn.datasets import make_classification\n",
    "from sklearn.neighbors import KNeighborsClassifier\n",
    "from sklearn.naive_bayes import GaussianNB\n",
    "from sklearn.tree import DecisionTreeClassifier\n",
    "from copy import deepcopy\n",
    "import warnings\n",
    "warnings.filterwarnings(\"ignore\")"
   ]
  },
  {
   "cell_type": "code",
   "execution_count": 9,
   "metadata": {},
   "outputs": [],
   "source": [
    "df = pd.read_csv('Jan_2019_ontime.csv')"
   ]
  },
  {
   "cell_type": "code",
   "execution_count": 10,
   "metadata": {},
   "outputs": [],
   "source": [
    "data = df.drop(['OP_UNIQUE_CARRIER','OP_CARRIER_AIRLINE_ID','OP_CARRIER','TAIL_NUM', 'ORIGIN_AIRPORT_ID','ORIGIN_AIRPORT_SEQ_ID','DEST_AIRPORT_ID','DEST_AIRPORT_SEQ_ID','Unnamed: 21'], axis=1)\n",
    "data = data.set_index('OP_CARRIER_FL_NUM')"
   ]
  },
  {
   "cell_type": "code",
   "execution_count": 11,
   "metadata": {},
   "outputs": [],
   "source": [
    "data.drop_duplicates(inplace=True)"
   ]
  },
  {
   "cell_type": "code",
   "execution_count": 12,
   "metadata": {},
   "outputs": [
    {
     "data": {
      "text/plain": [
       "DAY_OF_MONTH    False\n",
       "DAY_OF_WEEK     False\n",
       "ORIGIN          False\n",
       "DEST            False\n",
       "DEP_TIME        False\n",
       "DEP_DEL15       False\n",
       "DEP_TIME_BLK    False\n",
       "ARR_TIME        False\n",
       "ARR_DEL15       False\n",
       "CANCELLED       False\n",
       "DIVERTED        False\n",
       "DISTANCE        False\n",
       "dtype: bool"
      ]
     },
     "execution_count": 12,
     "metadata": {},
     "output_type": "execute_result"
    }
   ],
   "source": [
    "data.dropna(inplace=True) #null degerler droplaniyo\n",
    "data.isna().any()"
   ]
  },
  {
   "cell_type": "code",
   "execution_count": 13,
   "metadata": {},
   "outputs": [
    {
     "data": {
      "text/plain": [
       "DAY_OF_MONTH    0\n",
       "DAY_OF_WEEK     0\n",
       "ORIGIN          0\n",
       "DEST            0\n",
       "DEP_TIME        0\n",
       "DEP_DEL15       0\n",
       "DEP_TIME_BLK    0\n",
       "ARR_TIME        0\n",
       "ARR_DEL15       0\n",
       "CANCELLED       0\n",
       "DIVERTED        0\n",
       "DISTANCE        0\n",
       "dtype: int64"
      ]
     },
     "execution_count": 13,
     "metadata": {},
     "output_type": "execute_result"
    }
   ],
   "source": [
    "data.isna().sum()"
   ]
  },
  {
   "cell_type": "code",
   "execution_count": 14,
   "metadata": {},
   "outputs": [
    {
     "data": {
      "text/plain": [
       "0"
      ]
     },
     "execution_count": 14,
     "metadata": {},
     "output_type": "execute_result"
    }
   ],
   "source": [
    "data.duplicated().sum()"
   ]
  },
  {
   "cell_type": "code",
   "execution_count": 15,
   "metadata": {},
   "outputs": [],
   "source": [
    "#kategorik degerler label encoder ile sayisal degerlere cevrilir\n",
    "def encode_categories(features):\n",
    "    lb_make = preprocessing.LabelEncoder()\n",
    "    for i in range(len(features)):\n",
    "        data[features[i]] = lb_make.fit_transform(data[features[i]])"
   ]
  },
  {
   "cell_type": "code",
   "execution_count": 16,
   "metadata": {},
   "outputs": [
    {
     "name": "stdout",
     "output_type": "stream",
     "text": [
      "<class 'pandas.core.frame.DataFrame'>\n",
      "Int64Index: 565946 entries, 3280 to 104\n",
      "Data columns (total 12 columns):\n",
      " #   Column        Non-Null Count   Dtype  \n",
      "---  ------        --------------   -----  \n",
      " 0   DAY_OF_MONTH  565946 non-null  int64  \n",
      " 1   DAY_OF_WEEK   565946 non-null  int64  \n",
      " 2   ORIGIN        565946 non-null  object \n",
      " 3   DEST          565946 non-null  object \n",
      " 4   DEP_TIME      565946 non-null  float64\n",
      " 5   DEP_DEL15     565946 non-null  float64\n",
      " 6   DEP_TIME_BLK  565946 non-null  object \n",
      " 7   ARR_TIME      565946 non-null  float64\n",
      " 8   ARR_DEL15     565946 non-null  float64\n",
      " 9   CANCELLED     565946 non-null  float64\n",
      " 10  DIVERTED      565946 non-null  float64\n",
      " 11  DISTANCE      565946 non-null  float64\n",
      "dtypes: float64(7), int64(2), object(3)\n",
      "memory usage: 56.1+ MB\n"
     ]
    }
   ],
   "source": [
    "data.info()"
   ]
  },
  {
   "cell_type": "code",
   "execution_count": 17,
   "metadata": {},
   "outputs": [],
   "source": [
    "encode_categories(['ORIGIN' , 'DEST' , 'DEP_TIME_BLK'])"
   ]
  },
  {
   "cell_type": "code",
   "execution_count": 18,
   "metadata": {},
   "outputs": [],
   "source": [
    "x = data.drop('ARR_DEL15',axis=1)\n",
    "y = data['ARR_DEL15']"
   ]
  },
  {
   "cell_type": "code",
   "execution_count": 19,
   "metadata": {},
   "outputs": [],
   "source": [
    "x_train, x_test, y_train, y_test = train_test_split(x, y, test_size = 0.2,random_state=42)"
   ]
  },
  {
   "cell_type": "code",
   "execution_count": 20,
   "metadata": {},
   "outputs": [],
   "source": [
    "models = []\n",
    "models.append(('Naive Bayes', GaussianNB()))\n",
    "models.append(('Decision Tree', DecisionTreeClassifier()))"
   ]
  },
  {
   "cell_type": "code",
   "execution_count": 22,
   "metadata": {},
   "outputs": [],
   "source": [
    "k_range = range(1,11)\n",
    "kscore = []\n",
    "max = 0\n",
    "max_x_train = ()\n",
    "max_y_train = ()\n",
    "max_x_test = ()\n",
    "max_x_test = ()\n",
    "number = 1\n",
    "\n",
    "for k in k_range:\n",
    "    knn = KNeighborsClassifier(n_neighbors = k)\n",
    "    knn.fit(x_train, y_train)\n",
    "    kscore.append(knn.score(x_test, y_test))\n",
    "    \n",
    "    prediction = knn.predict(x_test)\n",
    "    accuracy = accuracy_score(y_test, prediction)\n",
    "    \n",
    "    if accuracy > max:\n",
    "        max = accuracy\n",
    "        max_knn = deepcopy(knn)\n",
    "        max_x_train = deepcopy(x_train)\n",
    "        max_y_train = deepcopy(y_train)\n",
    "        max_x_test = deepcopy(x_test)\n",
    "        max_y_test = deepcopy(y_test)\n",
    "        number = k"
   ]
  },
  {
   "cell_type": "code",
   "execution_count": 23,
   "metadata": {},
   "outputs": [],
   "source": [
    "models.append(('KNN', KNeighborsClassifier(n_neighbors = number)))"
   ]
  },
  {
   "cell_type": "code",
   "execution_count": 24,
   "metadata": {},
   "outputs": [
    {
     "name": "stdout",
     "output_type": "stream",
     "text": [
      "Naive Bayes\n",
      "test score: 0.916467885855641\n",
      "\n",
      "\n",
      "Decision Tree\n",
      "test score: 0.8938333775068469\n",
      "\n",
      "\n",
      "KNN\n",
      "test score: 0.8606767382277586\n",
      "\n",
      "\n",
      "KNN\n",
      "test score: 0.878240127219719\n",
      "\n",
      "\n"
     ]
    }
   ],
   "source": [
    "for name, model in models:\n",
    "    \n",
    "    print(name)\n",
    "    \n",
    "    # Make predictions.\n",
    "    \n",
    "    trained_model = model.fit(x_train, y_train)\n",
    "        \n",
    "    predictions = trained_model.predict(x_test) \n",
    "    \n",
    "    print(f\"test score: {accuracy_score(predictions,y_test)}\\n\\n\")"
   ]
  }
 ],
 "metadata": {
  "kernelspec": {
   "display_name": "base",
   "language": "python",
   "name": "python3"
  },
  "language_info": {
   "codemirror_mode": {
    "name": "ipython",
    "version": 3
   },
   "file_extension": ".py",
   "mimetype": "text/x-python",
   "name": "python",
   "nbconvert_exporter": "python",
   "pygments_lexer": "ipython3",
   "version": "3.8.5"
  },
  "orig_nbformat": 4,
  "vscode": {
   "interpreter": {
    "hash": "ad2bdc8ecc057115af97d19610ffacc2b4e99fae6737bb82f5d7fb13d2f2c186"
   }
  }
 },
 "nbformat": 4,
 "nbformat_minor": 2
}
